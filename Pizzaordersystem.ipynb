{
  "nbformat": 4,
  "nbformat_minor": 0,
  "metadata": {
    "colab": {
      "provenance": [],
      "include_colab_link": true
    },
    "kernelspec": {
      "name": "python3",
      "display_name": "Python 3"
    },
    "language_info": {
      "name": "python"
    }
  },
  "cells": [
    {
      "cell_type": "markdown",
      "metadata": {
        "id": "view-in-github",
        "colab_type": "text"
      },
      "source": [
        "<a href=\"https://colab.research.google.com/github/betulsureyya/training/blob/main/Pizzaordersystem.ipynb\" target=\"_parent\"><img src=\"https://colab.research.google.com/assets/colab-badge.svg\" alt=\"Open In Colab\"/></a>"
      ]
    },
    {
      "cell_type": "code",
      "source": [
        "import csv\n",
        "import datetime"
      ],
      "metadata": {
        "id": "Wgxwc-k8lMHa"
      },
      "execution_count": 53,
      "outputs": []
    },
    {
      "cell_type": "code",
      "source": [
        "with open(\"Menu.txt\", \"w\") as file:\n",
        "    file.write(\"* Lütfen Bir Pizza Tabanı Seçiniz:\\n\")\n",
        "    file.write(\"1: Klasik\\n\")\n",
        "    file.write(\"2: Margarita\\n\")\n",
        "    file.write(\"3: TürkPizza\\n\")\n",
        "    file.write(\"4: Sade Pizza\\n\")\n",
        "    file.write(\"* ve seçeceğiniz sos:\\n\")\n",
        "    file.write(\"11: Zeytin\\n\")\n",
        "    file.write(\"12: Mantarlar\\n\")\n",
        "    file.write(\"13: Keçi Peyniri\\n\")\n",
        "    file.write(\"14: Et\\n\")\n",
        "    file.write(\"15: Soğan\\n\")\n",
        "    file.write(\"16: Mısır\\n\")\n",
        "    file.write(\"* Teşekkür ederiz!\\n\")\n"
      ],
      "metadata": {
        "id": "GLIlyEm35Jiu"
      },
      "execution_count": 54,
      "outputs": []
    },
    {
      "cell_type": "code",
      "execution_count": 55,
      "metadata": {
        "id": "zS6KS2T5kPeN"
      },
      "outputs": [],
      "source": [
        "class Pizza:\n",
        "    def __init__(self, ad, aciklama, fiyat, sos_miktari):\n",
        "        self.ad = ad\n",
        "        self.aciklama = aciklama\n",
        "        self.fiyat = fiyat\n",
        "        self.sos_miktari = sos_miktari\n"
      ]
    },
    {
      "cell_type": "code",
      "source": [
        "class Sos:\n",
        "    def __init__(self, ad, fiyat):\n",
        "        self.ad = ad\n",
        "        self.fiyat = fiyat\n"
      ],
      "metadata": {
        "id": "yE8HboMnkvSa"
      },
      "execution_count": 56,
      "outputs": []
    },
    {
      "cell_type": "code",
      "source": [
        "class Siparis:\n",
        "    def __init__(self, kart_numarasi, son_kullanma_tarihi, guvenlik_kodu):\n",
        "        self.kart_numarasi = kart_numarasi\n",
        "        self.son_kullanma_tarihi = son_kullanma_tarihi\n",
        "        self.guvenlik_kodu = guvenlik_kodu\n",
        "        self.secili_pizzalar = []\n",
        "        self.secili_soslar = []\n",
        "\n",
        "    def pizza_ekle(self, pizza):\n",
        "        self.secili_pizzalar.append(pizza)\n",
        "    \n",
        "    def sos_ekle(self, sos):\n",
        "        self.secili_soslar.append(sos)\n",
        "    \n",
        "    def toplam_tutar(self):\n",
        "        pizza_tutari = sum([pizza.fiyat for pizza in self.secili_pizzalar])\n",
        "        sos_tutari = sum([sos.fiyat for sos in self.secili_soslar])\n",
        "        return pizza_tutari + sos_tutari\n"
      ],
      "metadata": {
        "id": "kqq2lmKmkwMB"
      },
      "execution_count": 57,
      "outputs": []
    },
    {
      "cell_type": "code",
      "source": [
        "class Pizza:\n",
        "    def __init__(self, description, cost):\n",
        "        self._description = description\n",
        "        self._cost = cost\n",
        "\n",
        "    def get_description(self):\n",
        "        return self._description\n",
        "\n",
        "    def get_cost(self):\n",
        "        return self._cost\n",
        "\n"
      ],
      "metadata": {
        "id": "94-6kAxAl0Iz"
      },
      "execution_count": 58,
      "outputs": []
    },
    {
      "cell_type": "code",
      "source": [
        "class ClassicPizza(Pizza):\n",
        "    def __init__(self):\n",
        "        description = \"Klasik Pizza\"\n",
        "        cost = 20.0\n",
        "        super().__init__(description, cost)\n",
        "\n",
        "class MargheritaPizza(Pizza):\n",
        "    def __init__(self):\n",
        "        description = \"Margarita Pizza\"\n",
        "        cost = 25.0\n",
        "        super().__init__(description, cost)\n",
        "\n",
        "class TurkPizza(Pizza):\n",
        "    def __init__(self):\n",
        "        description = \"Türk Pizza\"\n",
        "        cost = 30.0\n",
        "        super().__init__(description, cost)\n",
        "\n",
        "class DominosPizza(Pizza):\n",
        "    def __init__(self):\n",
        "        description = \"Dominos Pizza\"\n",
        "        cost = 35.0\n",
        "        super().__init__(description, cost)\n"
      ],
      "metadata": {
        "id": "oEml1eewq2oX"
      },
      "execution_count": 59,
      "outputs": []
    },
    {
      "cell_type": "code",
      "source": [
        "class Decorator(Pizza):\n",
        "    def __init__(self, component):\n",
        "        self.component = component\n",
        "\n",
        "    def get_cost(self):\n",
        "        return self.component.get_cost() + Pizza.get_cost(self)\n",
        "\n",
        "    def get_description(self):\n",
        "        return self.component.get_description() + ' ' + Pizza.get_description(self)\n",
        "\n",
        "\n",
        "class Zeytin(Decorator):\n",
        "    def __init__(self, pizza):\n",
        "        super().__init__(pizza)\n",
        "        self.cost = 1.5\n",
        "        self.description = \"Zeytin\"\n",
        "\n",
        "\n",
        "class Mantarlar(Decorator):\n",
        "    def __init__(self, pizza):\n",
        "        super().__init__(pizza)\n",
        "        self.cost = 2\n",
        "        self.description = \"Mantarlar\"\n",
        "\n",
        "\n",
        "class KeçiPeyniri(Decorator):\n",
        "    def __init__(self, pizza):\n",
        "        super().__init__(pizza)\n",
        "        self.cost = 2.5\n",
        "        self.description = \"Keçi Peyniri\"\n",
        "\n",
        "\n",
        "class Et(Decorator):\n",
        "    def __init__(self, pizza):\n",
        "        super().__init__(pizza)\n",
        "        self.cost = 3\n",
        "        self.description = \"Et\"\n",
        "\n",
        "\n",
        "class Soğan(Decorator):\n",
        "    def __init__(self, pizza):\n",
        "        super().__init__(pizza)\n",
        "        self.cost = 1\n",
        "        self.description = \"Soğan\"\n",
        "\n",
        "\n",
        "class Mısır(Decorator):\n",
        "    def __init__(self, pizza):\n",
        "        super().__init__(pizza)\n",
        "        self.cost = 1.5\n",
        "        self.description = \"Mısır\"\n"
      ],
      "metadata": {
        "id": "VeOJXex4tMHQ"
      },
      "execution_count": 60,
      "outputs": []
    },
    {
      "cell_type": "code",
      "source": [
        "def main():\n",
        "    # Menüyü ekrana yazdır\n",
        "\n",
        "    with open('Menu.txt', 'r') as f: # I am saving Menu.txt in my sample_data folder but it is possible to change it.\n",
        "        print(f.read())\n",
        "\n",
        "\n",
        "    # Pizza seçimi yap\n",
        "    while True:\n",
        "        pizza_choice = input(\"Lütfen bir pizza seçiniz (1-4): \")\n",
        "        if pizza_choice in ['1', '2', '3', '4']:\n",
        "            break\n",
        "        else:\n",
        "            print(\"Geçersiz seçim. Lütfen tekrar deneyin.\")\n",
        "\n",
        "    # Seçilen pizza türüne göre pizza nesnesi oluştur\n",
        "    if pizza_choice == '1':\n",
        "        pizza = ClassicPizza() \n",
        "    elif pizza_choice == '2':\n",
        "        pizza = MargheritaPizza()\n",
        "    elif pizza_choice == '3':\n",
        "        pizza = TurkPizza()\n",
        "    else:\n",
        "        pizza = DominosPizza() \n",
        "\n",
        "\n",
        "    # Sos seçimi yap\n",
        "    while True:\n",
        "        sos_choice = input(\"Lütfen bir sos seçiniz (11-16): \")\n",
        "        if sos_choice in ['11', '12', '13', '14', '15', '16']:\n",
        "            break\n",
        "        else:\n",
        "            print(\"Geçersiz seçim. Lütfen tekrar deneyin.\")\n",
        "\n",
        "    # Seçilen sos türüne göre sos nesnesi oluştur\n",
        "\n",
        "    if sos_choice == '11':\n",
        "        pizza = Zeytin(pizza)\n",
        "    elif sos_choice == '12':\n",
        "        pizza = Mantarlar(pizza)\n",
        "    elif sos_choice == '13':\n",
        "        pizza = KeçiPeyniri(pizza)\n",
        "    elif sos_choice == '14':\n",
        "        pizza = Et(pizza)\n",
        "    elif sos_choice == '15':\n",
        "        pizza = Soğan(pizza)\n",
        "    else:\n",
        "        pizza = Mısır(pizza)\n",
        "\n",
        "  \n",
        "    # Final message:\n",
        "    print(\"That was all, thank you and enjoy the Pizza!\")\n"
      ],
      "metadata": {
        "id": "pIiMp37vtM17"
      },
      "execution_count": 61,
      "outputs": []
    },
    {
      "cell_type": "code",
      "source": [
        "main()"
      ],
      "metadata": {
        "id": "Tg4oq4bdYqqM",
        "colab": {
          "base_uri": "https://localhost:8080/"
        },
        "outputId": "62151f51-7124-4c31-8be9-dc18d22c4fb4"
      },
      "execution_count": null,
      "outputs": [
        {
          "output_type": "stream",
          "name": "stdout",
          "text": [
            "* Lütfen Bir Pizza Tabanı Seçiniz:\n",
            "1: Klasik\n",
            "2: Margarita\n",
            "3: TürkPizza\n",
            "4: Sade Pizza\n",
            "* ve seçeceğiniz sos:\n",
            "11: Zeytin\n",
            "12: Mantarlar\n",
            "13: Keçi Peyniri\n",
            "14: Et\n",
            "15: Soğan\n",
            "16: Mısır\n",
            "* Teşekkür ederiz!\n",
            "\n"
          ]
        }
      ]
    }
  ]
}